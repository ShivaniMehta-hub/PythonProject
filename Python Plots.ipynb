{
 "cells": [
  {
   "cell_type": "code",
   "execution_count": null,
   "metadata": {},
   "outputs": [],
   "source": [
    "from pandas import *\n",
    "from ggplot import *\n",
    "\n",
    "import pandas\n",
    "\n",
    "def lineplot(hr_year_csv):\n",
    "    # A csv file will be passed in as an argument which\n",
    "    # contains two columns -- 'HR' (the number of homerun hits)\n",
    "    # and 'yearID' (the year in which the homeruns were hit).\n",
    "    #\n",
    "    # Fill out the body of this function, lineplot, to use the\n",
    "    # passed-in csv file, hr_year.csv, and create a\n",
    "    # chart with points connected by lines, both colored 'red',\n",
    "    # showing the number of HR by year.\n",
    "    #\n",
    "    # You will want to first load the csv file into a pandas dataframe\n",
    "    # and use the pandas dataframe along with ggplot to create your visualization\n",
    "    #\n",
    "    # You can check out the data in the csv file at the link below:\n",
    "    # https://s3.amazonaws.com/content.udacity-data.com/courses/ud359/hr_year.csv\n",
    "    #\n",
    "    # You can read more about ggplot at the following link:\n",
    "    # https://github.com/yhat/ggplot/\n",
    "    \n",
    "    hr_year=pandas.read_csv('hr_year.csv')\n",
    "    gg = ggplot(hr_year, aes('HR','yearID')) + geom_point(color='red') + geom_line(color='red')\n",
    "    return gg\n"
   ]
  },
  {
   "cell_type": "code",
   "execution_count": null,
   "metadata": {},
   "outputs": [],
   "source": [
    "\n",
    "import pandas\n",
    "from ggplot import *\n",
    "\n",
    "\n",
    "def lineplot_compare(hr_by_team_year_sf_la_csv):\n",
    "    # Write a function, lineplot_compare, that will read a csv file\n",
    "    # called hr_by_team_year_sf_la.csv and plot it using pandas and ggplot.\n",
    "    #\n",
    "    # This csv file has three columns: yearID, HR, and teamID. The data in the\n",
    "    # file gives the total number of home runs hit each year by the SF Giants \n",
    "    # (teamID == 'SFN') and the LA Dodgers (teamID == \"LAN\"). Produce a \n",
    "    # visualization comparing the total home runs by year of the two teams. \n",
    "    # \n",
    "    # You can see the data in hr_by_team_year_sf_la_csv\n",
    "    # at the link below:\n",
    "    # https://s3.amazonaws.com/content.udacity-data.com/courses/ud359/hr_by_team_year_sf_la.csv\n",
    "    #\n",
    "    # Note that to differentiate between multiple categories on the \n",
    "    # same plot in ggplot, we can pass color in with the other arguments\n",
    "    # to aes, rather than in our geometry functions. For example, \n",
    "    # ggplot(data, aes(xvar, yvar, color=category_var)). This might help you \n",
    "    # in this exercise.\n",
    "    \n",
    "    hr_byteam_year=pandas.read_csv('hr_by_team_year_sf_la.csv')\n",
    "    gg = ggplot(hr_byteam_year, aes('HR','yearID',color='teamID')) + geom_point() + geom_line()\n",
    "    return gg\n"
   ]
  }
 ],
 "metadata": {
  "kernelspec": {
   "display_name": "Python 3",
   "language": "python",
   "name": "python3"
  },
  "language_info": {
   "codemirror_mode": {
    "name": "ipython",
    "version": 3
   },
   "file_extension": ".py",
   "mimetype": "text/x-python",
   "name": "python",
   "nbconvert_exporter": "python",
   "pygments_lexer": "ipython3",
   "version": "3.7.3"
  }
 },
 "nbformat": 4,
 "nbformat_minor": 2
}
